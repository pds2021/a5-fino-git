{
  "nbformat": 4,
  "nbformat_minor": 0,
  "metadata": {
    "accelerator": "GPU",
    "colab": {
      "name": "Assignment_5.ipynb",
      "provenance": [],
      "collapsed_sections": [],
      "toc_visible": true,
      "include_colab_link": true
    },
    "kernelspec": {
      "display_name": "fastai",
      "language": "python",
      "name": "fastai"
    },
    "language_info": {
      "codemirror_mode": {
        "name": "ipython",
        "version": 3
      },
      "file_extension": ".py",
      "mimetype": "text/x-python",
      "name": "python",
      "nbconvert_exporter": "python",
      "pygments_lexer": "ipython3",
      "version": "3.8.6"
    },
    "toc": {
      "base_numbering": 1,
      "nav_menu": {},
      "number_sections": true,
      "sideBar": true,
      "skip_h1_title": true,
      "title_cell": "Table of Contents",
      "title_sidebar": "Contents",
      "toc_cell": false,
      "toc_position": {},
      "toc_section_display": true,
      "toc_window_display": false
    }
  },
  "cells": [
    {
      "cell_type": "markdown",
      "metadata": {
        "id": "view-in-github",
        "colab_type": "text"
      },
      "source": [
        "<a href=\"https://colab.research.google.com/github/pds2021/a5-fino-git/blob/assignment_5/Assignment_5.ipynb\" target=\"_parent\"><img src=\"https://colab.research.google.com/assets/colab-badge.svg\" alt=\"Open In Colab\"/></a>"
      ]
    },
    {
      "cell_type": "markdown",
      "metadata": {
        "id": "tGc2_6yfntEV"
      },
      "source": [
        "*Practical Data Science 20/21*\n",
        "# Programming Assignment 5 - Create your own App"
      ]
    },
    {
      "cell_type": "markdown",
      "metadata": {
        "id": "IoLPBsbcntEY"
      },
      "source": [
        "In this programming assignment you'll build a model that serves as a foundation for your own app. To this end, you will create your own dataset, build a deep learning model on this data, and deploy it!"
      ]
    },
    {
      "cell_type": "code",
      "metadata": {
        "colab": {
          "base_uri": "https://localhost:8080/",
          "height": 481
        },
        "id": "1LFwWTzNF40e",
        "outputId": "c0467ecd-44db-467a-eed5-9523a43c21d5"
      },
      "source": [
        "!pip install -Uqq fastai  # upgrade fastai on colab\n",
        "from fastai.vision.all import *\n",
        "from fastai.vision.widgets import *"
      ],
      "execution_count": 6,
      "outputs": [
        {
          "output_type": "stream",
          "text": [
            "\u001b[K     |████████████████████████████████| 194kB 8.4MB/s \n",
            "\u001b[K     |████████████████████████████████| 61kB 7.0MB/s \n",
            "\u001b[?25h"
          ],
          "name": "stdout"
        },
        {
          "output_type": "error",
          "ename": "ModuleNotFoundError",
          "evalue": "ignored",
          "traceback": [
            "\u001b[0;31m---------------------------------------------------------------------------\u001b[0m",
            "\u001b[0;31mModuleNotFoundError\u001b[0m                       Traceback (most recent call last)",
            "\u001b[0;32m<ipython-input-6-23adf2caea2b>\u001b[0m in \u001b[0;36m<module>\u001b[0;34m()\u001b[0m\n\u001b[1;32m      1\u001b[0m \u001b[0mget_ipython\u001b[0m\u001b[0;34m(\u001b[0m\u001b[0;34m)\u001b[0m\u001b[0;34m.\u001b[0m\u001b[0msystem\u001b[0m\u001b[0;34m(\u001b[0m\u001b[0;34m'pip install -Uqq fastai  # upgrade fastai on colab'\u001b[0m\u001b[0;34m)\u001b[0m\u001b[0;34m\u001b[0m\u001b[0;34m\u001b[0m\u001b[0m\n\u001b[0;32m----> 2\u001b[0;31m \u001b[0;32mfrom\u001b[0m \u001b[0mfastai\u001b[0m\u001b[0;34m.\u001b[0m\u001b[0mvision\u001b[0m\u001b[0;34m.\u001b[0m\u001b[0mall\u001b[0m \u001b[0;32mimport\u001b[0m \u001b[0;34m*\u001b[0m\u001b[0;34m\u001b[0m\u001b[0;34m\u001b[0m\u001b[0m\n\u001b[0m\u001b[1;32m      3\u001b[0m \u001b[0;32mfrom\u001b[0m \u001b[0mfastai\u001b[0m\u001b[0;34m.\u001b[0m\u001b[0mvision\u001b[0m\u001b[0;34m.\u001b[0m\u001b[0mwidgets\u001b[0m \u001b[0;32mimport\u001b[0m \u001b[0;34m*\u001b[0m\u001b[0;34m\u001b[0m\u001b[0;34m\u001b[0m\u001b[0m\n",
            "\u001b[0;32m/usr/local/lib/python3.6/dist-packages/fastai/vision/all.py\u001b[0m in \u001b[0;36m<module>\u001b[0;34m()\u001b[0m\n\u001b[1;32m      1\u001b[0m \u001b[0;32mfrom\u001b[0m \u001b[0;34m.\u001b[0m \u001b[0;32mimport\u001b[0m \u001b[0mmodels\u001b[0m\u001b[0;34m\u001b[0m\u001b[0;34m\u001b[0m\u001b[0m\n\u001b[1;32m      2\u001b[0m \u001b[0;32mfrom\u001b[0m \u001b[0;34m.\u001b[0m\u001b[0;34m.\u001b[0m\u001b[0mbasics\u001b[0m \u001b[0;32mimport\u001b[0m \u001b[0;34m*\u001b[0m\u001b[0;34m\u001b[0m\u001b[0;34m\u001b[0m\u001b[0m\n\u001b[0;32m----> 3\u001b[0;31m \u001b[0;32mfrom\u001b[0m \u001b[0;34m.\u001b[0m\u001b[0;34m.\u001b[0m\u001b[0mcallback\u001b[0m\u001b[0;34m.\u001b[0m\u001b[0mall\u001b[0m \u001b[0;32mimport\u001b[0m \u001b[0;34m*\u001b[0m\u001b[0;34m\u001b[0m\u001b[0;34m\u001b[0m\u001b[0m\n\u001b[0m\u001b[1;32m      4\u001b[0m \u001b[0;32mfrom\u001b[0m \u001b[0;34m.\u001b[0m\u001b[0maugment\u001b[0m \u001b[0;32mimport\u001b[0m \u001b[0;34m*\u001b[0m\u001b[0;34m\u001b[0m\u001b[0;34m\u001b[0m\u001b[0m\n\u001b[1;32m      5\u001b[0m \u001b[0;32mfrom\u001b[0m \u001b[0;34m.\u001b[0m\u001b[0mcore\u001b[0m \u001b[0;32mimport\u001b[0m \u001b[0;34m*\u001b[0m\u001b[0;34m\u001b[0m\u001b[0;34m\u001b[0m\u001b[0m\n",
            "\u001b[0;31mModuleNotFoundError\u001b[0m: No module named 'fastai.callback.all'; 'fastai.callback' is not a package",
            "",
            "\u001b[0;31m---------------------------------------------------------------------------\u001b[0;32m\nNOTE: If your import is failing due to a missing package, you can\nmanually install dependencies using either !pip or !apt.\n\nTo view examples of installing some common dependencies, click the\n\"Open Examples\" button below.\n\u001b[0;31m---------------------------------------------------------------------------\u001b[0m\n"
          ]
        }
      ]
    },
    {
      "cell_type": "markdown",
      "metadata": {
        "id": "W66apl0K_0-p"
      },
      "source": [
        "__Google Drive integration__\n",
        "\n",
        "If you want to store and access your downloaded data for this assignment you can use the following code:"
      ]
    },
    {
      "cell_type": "code",
      "metadata": {
        "colab": {
          "base_uri": "https://localhost:8080/"
        },
        "id": "yGFt-2HA_wEF",
        "outputId": "8d8cbaf7-8fb1-42b5-b3e7-8c168851ab33"
      },
      "source": [
        "from google.colab import drive\n",
        "drive.mount('/content/drive')\n",
        "!mkdir /content/drive/My\\ Drive/pds_a5\n",
        "%cd /content/drive/My\\ Drive/pds_a5"
      ],
      "execution_count": 4,
      "outputs": [
        {
          "output_type": "stream",
          "text": [
            "Mounted at /content/drive\n",
            "/content/drive/My Drive/pds_a5\n"
          ],
          "name": "stdout"
        }
      ]
    },
    {
      "cell_type": "markdown",
      "metadata": {
        "id": "0jMXp_ssBLeN"
      },
      "source": [
        "## Develop an Application Idea"
      ]
    },
    {
      "cell_type": "markdown",
      "metadata": {
        "id": "KubOl5bIGf1J"
      },
      "source": [
        "___Free your mind - this part is totally up to you.___\n",
        "\n",
        "Think of an app that you'd like to build.\n",
        "*   What useful app have you been missing?\n",
        "*   Do you have any hobbies an app could be helpful for?\n",
        "*   Is this a suitable classification or regression task? \n",
        "*   How could you get the data?\n"
      ]
    },
    {
      "cell_type": "code",
      "metadata": {
        "id": "sy7CThSkC5mP"
      },
      "source": [
        "# Write down your app idea here\r\n",
        "\r\n",
        "#deer classifier: I am often wondering which type of deer is on a picture\r\n",
        "\r\n",
        "#the data can be downloaded from a Browser - Google similar to the bear example"
      ],
      "execution_count": null,
      "outputs": []
    },
    {
      "cell_type": "markdown",
      "metadata": {
        "id": "DNhyJFz47hf3"
      },
      "source": [
        "You can get an inspiration from these Apps:\n",
        "\n",
        "<table>\n",
        "<tr>\n",
        "<td> <img src=\"https://github.com/hiromis/notes/raw/master/lesson3/5.png\"> <br><a href=\"https://forums.fast.ai/t/share-your-work-here/27676/400\">Guitar Classifier</a> by Christian Werner</td><td> <img src=\"https://github.com/hiromis/notes/raw/master/lesson3/6.png\"><br><a href=\"https://forums.fast.ai/t/share-your-work-here/27676/340\">Healthy or Not!</a> by Nikhil Utane </td><td> <img src=\"https://github.com/hiromis/notes/raw/master/lesson3/7.png\"> <br><a href=\"https://forums.fast.ai/t/share-your-work-here/27676/333\">Hummingbird Classifier</a> by Nissan Dookeran</td>\n",
        "</tr><tr>\n",
        "<td> <img src=\"https://github.com/hiromis/notes/raw/master/lesson3/8.png\"> <br><a href=\"https://forums.fast.ai/t/share-your-work-here/27676/409\">Edible Mushroom?</a> by Ramon</td><td> <img src=\"https://github.com/hiromis/notes/raw/master/lesson3/9.png\"><br> <a href=\"https://forums.fast.ai/t/share-your-work-here/27676/387\">Cousin Recognizer</a> by Charlie Harrington</td><td> <img src=\"https://github.com/hiromis/notes/raw/master/lesson3/10.png\"><br> <a href=\"https://forums.fast.ai/t/share-your-work-here/27676/386\">Emotion Classifier</a> by Ethan Sutin and Team 26</td>\n",
        "</tr><tr>\n",
        "<td> <img src=\"https://github.com/hiromis/notes/raw/master/lesson3/11.png\"> <br><a href=\"https://forums.fast.ai/t/share-your-work-here/27676/350\">American Sign Language</a> by Keyur Paralkar</td><td> <img src=\"https://github.com/hiromis/notes/raw/master/lesson3/12.png\"> <br><a href=\"https://forums.fast.ai/t/share-your-work-here/27676/355\">Your City from Space</a> by Henri Palacci</td><td> <img src=\"https://github.com/hiromis/notes/raw/master/lesson3/13.png\"> <br><a href=\"https://forums.fast.ai/t/share-your-work-here/27676/367\">Univariate TS as images using Gramian Angular Field</a> by Ignacio Oguiza</td>\n",
        "</tr><tr>\n",
        "<td> <img src=\"https://github.com/hiromis/notes/raw/master/lesson3/14.png\"> <br><a href=\"https://forums.fast.ai/t/share-your-work-here/27676/348\">Face Expression Recognition</a> by Pierre Guillou</td><td> <img src=\"https://github.com/hiromis/notes/raw/master/lesson3/15.png\"><br><a href=\"https://forums.fast.ai/t/share-your-work-here/27676/352\">Tumor-normal sequencing</a> by Alena Harley</td><td>  </td>\n",
        "</tr><table>"
      ]
    },
    {
      "cell_type": "markdown",
      "metadata": {
        "id": "JcWF9CzcntEb"
      },
      "source": [
        "## Creating your own Dataset\n",
        "\n",
        "Now you need to construct a dataset that allows you to train a model for your app. You learned about how to create a dataset in Lecture 7.\n",
        "\n",
        "Here, you can follow the steps from the lecture or look into the following ressources:\n",
        "\n",
        "*   A [tool](https://github.com/toffebjorkskog/ml-tools/blob/master/gi2ds.md) for excluding irrelevant images from Google Image Search results beforehand by @melonkernel\n",
        "*   See this [post](https://www.christianwerner.net/tech/Build-your-image-dataset-faster/) about an alternative image downloader/cleaner by @cwerner\n",
        "*   Of course, you can use your own data/images :) "
      ]
    },
    {
      "cell_type": "markdown",
      "metadata": {
        "id": "_1Ex4FjsQvdw"
      },
      "source": [
        "### 1. Dowload the data \n",
        "- You may use the helper functions from the lecture to get the image URLs\n",
        "- Create a new folder at your defined `path`\n",
        "- Use `download_image` to download the images into the corresponding (sub-)directories"
      ]
    },
    {
      "cell_type": "code",
      "metadata": {
        "id": "t8Zj53oTiJed",
        "outputId": "82539f81-e51e-43f4-b817-af39d36e8fc8",
        "colab": {
          "base_uri": "https://localhost:8080/",
          "height": 363
        }
      },
      "source": [
        "# Write your code here\r\n",
        "\r\n",
        "import requests\r\n",
        "import re\r\n",
        "import json\r\n",
        "from fastcore.foundation import L\r\n",
        "\r\n",
        "def search_images_ddg(key,max_n=150):\r\n",
        "    \"\"\"Search for 'key' with DuckDuckGo and return a unique urls of 'max_n' images\r\n",
        "    (Adopted from https://github.com/deepanprabhu/duckduckgo-images-api and \r\n",
        "    https://github.com/fastai/fastbook/blob/master/utils.py)\r\n",
        "    \"\"\"\r\n",
        "    url        = 'https://duckduckgo.com/'\r\n",
        "    params     = {'q':key}\r\n",
        "    res        = requests.post(url,data=params)\r\n",
        "    searchObj  = re.search(r'vqd=([\\d-]+)\\&',res.text)\r\n",
        "    if not searchObj: print('Token Parsing Failed !'); return\r\n",
        "    requestUrl = url + 'i.js'\r\n",
        "    headers    = {'User-Agent': 'Mozilla/5.0 (X11; Ubuntu; Linux x86_64; rv:71.0) Gecko/20100101 Firefox/71.0',\r\n",
        "                 'referer': 'https://duckduckgo.com/'}\r\n",
        "    params     = (('l','us-en'),('o','json'),('q',key),('vqd',searchObj.group(1)),('f',',,,'),('p','1'),('v7exp','a'))\r\n",
        "    urls       = []\r\n",
        "    while True:\r\n",
        "        try:\r\n",
        "            res  = requests.get(requestUrl,headers=headers,params=params)\r\n",
        "            data = json.loads(res.text)\r\n",
        "            for obj in data['results']:\r\n",
        "                urls.append(obj['image'])\r\n",
        "                max_n = max_n - 1\r\n",
        "                if max_n < 1: return L(set(urls))     # dedupe\r\n",
        "            if 'next' not in data: return L(set(urls))\r\n",
        "            requestUrl = url + data['next']\r\n",
        "        except:\r\n",
        "            pass"
      ],
      "execution_count": 5,
      "outputs": [
        {
          "output_type": "error",
          "ename": "ModuleNotFoundError",
          "evalue": "ignored",
          "traceback": [
            "\u001b[0;31m---------------------------------------------------------------------------\u001b[0m",
            "\u001b[0;31mModuleNotFoundError\u001b[0m                       Traceback (most recent call last)",
            "\u001b[0;32m<ipython-input-5-8d82b9e1006c>\u001b[0m in \u001b[0;36m<module>\u001b[0;34m()\u001b[0m\n\u001b[1;32m      4\u001b[0m \u001b[0;32mimport\u001b[0m \u001b[0mre\u001b[0m\u001b[0;34m\u001b[0m\u001b[0;34m\u001b[0m\u001b[0m\n\u001b[1;32m      5\u001b[0m \u001b[0;32mimport\u001b[0m \u001b[0mjson\u001b[0m\u001b[0;34m\u001b[0m\u001b[0;34m\u001b[0m\u001b[0m\n\u001b[0;32m----> 6\u001b[0;31m \u001b[0;32mfrom\u001b[0m \u001b[0mfastcore\u001b[0m\u001b[0;34m.\u001b[0m\u001b[0mfoundation\u001b[0m \u001b[0;32mimport\u001b[0m \u001b[0mL\u001b[0m\u001b[0;34m\u001b[0m\u001b[0;34m\u001b[0m\u001b[0m\n\u001b[0m\u001b[1;32m      7\u001b[0m \u001b[0;34m\u001b[0m\u001b[0m\n\u001b[1;32m      8\u001b[0m \u001b[0;32mdef\u001b[0m \u001b[0msearch_images_ddg\u001b[0m\u001b[0;34m(\u001b[0m\u001b[0mkey\u001b[0m\u001b[0;34m,\u001b[0m\u001b[0mmax_n\u001b[0m\u001b[0;34m=\u001b[0m\u001b[0;36m150\u001b[0m\u001b[0;34m)\u001b[0m\u001b[0;34m:\u001b[0m\u001b[0;34m\u001b[0m\u001b[0;34m\u001b[0m\u001b[0m\n",
            "\u001b[0;31mModuleNotFoundError\u001b[0m: No module named 'fastcore'",
            "",
            "\u001b[0;31m---------------------------------------------------------------------------\u001b[0;32m\nNOTE: If your import is failing due to a missing package, you can\nmanually install dependencies using either !pip or !apt.\n\nTo view examples of installing some common dependencies, click the\n\"Open Examples\" button below.\n\u001b[0;31m---------------------------------------------------------------------------\u001b[0m\n"
          ]
        }
      ]
    },
    {
      "cell_type": "code",
      "metadata": {
        "id": "BiWjPUdmqe3X"
      },
      "source": [
        "dear_types = 'whitetail deer','mule deer','axis deer','sika deer','red deer','caribou','elk','moose'\r\n",
        "path = Path('dears')"
      ],
      "execution_count": null,
      "outputs": []
    },
    {
      "cell_type": "code",
      "metadata": {
        "id": "UzBP1hPrqiz2"
      },
      "source": [
        "if not path.exists(): path.mkdir()\r\n",
        "for o in bear_types:\r\n",
        "    dest = (path/o)\r\n",
        "    dest.mkdir(exist_ok=True)\r\n",
        "    results = search_images_ddg(f'{o} dear')\r\n",
        "    download_images(dest, urls=results)"
      ],
      "execution_count": null,
      "outputs": []
    },
    {
      "cell_type": "markdown",
      "metadata": {
        "id": "G2DWtn6dUTuC"
      },
      "source": [
        "### 2. Verify Images\n",
        "- First, create a list of all your images\n",
        "- Use `verify_images` and `unlink` to remove broken images"
      ]
    },
    {
      "cell_type": "code",
      "metadata": {
        "id": "paQU1C7hRwdD"
      },
      "source": [
        "# Write your code here"
      ],
      "execution_count": null,
      "outputs": []
    },
    {
      "cell_type": "markdown",
      "metadata": {
        "id": "ofYTnNAR-9MY"
      },
      "source": [
        "### 3. Create the DataBlock\n",
        "For this, you need to think of:\n",
        "- What kinds of data we are working with\n",
        "- How to get the list of items\n",
        "- How to label these items\n",
        "- How to create the validation set\n",
        "\n",
        "Use `RandomResizedCrop` for `item_tfms`with an image size of 224 px, and the appropriate `aug_transforms` as `batch_tfms`."
      ]
    },
    {
      "cell_type": "code",
      "metadata": {
        "id": "K0OZBgHsVlak"
      },
      "source": [
        "# Write your code here"
      ],
      "execution_count": null,
      "outputs": []
    },
    {
      "cell_type": "markdown",
      "metadata": {
        "id": "B6VzO6cJiJee"
      },
      "source": [
        "### 4. Create the DataLoaders"
      ]
    },
    {
      "cell_type": "code",
      "metadata": {
        "id": "Y4g04l9GiJef"
      },
      "source": [
        "# Write your code here"
      ],
      "execution_count": null,
      "outputs": []
    },
    {
      "cell_type": "markdown",
      "metadata": {
        "id": "XSqwnxqHVsI1"
      },
      "source": [
        "### 5. Take a look at some of your pictures. \n",
        "Does everything look as expected?"
      ]
    },
    {
      "cell_type": "code",
      "metadata": {
        "id": "KiDCW4GkWGEh"
      },
      "source": [
        "# Write your code here"
      ],
      "execution_count": null,
      "outputs": []
    },
    {
      "cell_type": "markdown",
      "metadata": {
        "id": "NHPY-ROICpQS"
      },
      "source": [
        "## Modeling"
      ]
    },
    {
      "cell_type": "markdown",
      "metadata": {
        "id": "2QbIfj5hCz27"
      },
      "source": [
        "### 6. Create a learner\n",
        "\n",
        "Create an appropriate learner for your data\n",
        "- Choose an appropriate model [architecture](https://fastai1.fast.ai/vision.models.html)\n",
        "- Choose appropriate [metrics](https://docs.fast.ai/metrics.html) for your task"
      ]
    },
    {
      "cell_type": "code",
      "metadata": {
        "id": "MPbUxgzKqHf5"
      },
      "source": [
        "# Write your code here"
      ],
      "execution_count": null,
      "outputs": []
    },
    {
      "cell_type": "markdown",
      "metadata": {
        "id": "mZNWMhpdDGIx"
      },
      "source": [
        "### 7. Fit the model\n",
        "\n",
        "Use your knowdledge on model training to fit your model!"
      ]
    },
    {
      "cell_type": "code",
      "metadata": {
        "id": "t1Vg9n-6DImj"
      },
      "source": [
        "# Write your code here"
      ],
      "execution_count": null,
      "outputs": []
    },
    {
      "cell_type": "markdown",
      "metadata": {
        "id": "xStuybwxntEq"
      },
      "source": [
        "### 8. Evaluate the model\n",
        "\n",
        "You' ve already seen many ways to evaluate a model. Evaluate your model in a qualitative and quantitative manner."
      ]
    },
    {
      "cell_type": "code",
      "metadata": {
        "id": "bBbtzt8LqS_s"
      },
      "source": [
        "# Write your code here"
      ],
      "execution_count": null,
      "outputs": []
    },
    {
      "cell_type": "markdown",
      "metadata": {
        "id": "mSxyzt99iJeh"
      },
      "source": [
        "### 9. Clean your data\n",
        "\n",
        "Based on the evaluation, you may want to clean your data using the `ImageClassifierCleaner`.\n",
        "- Remeber to delete the selected data after using the cleaner:\n",
        "    ```python\n",
        "    for idx in cleaner.delete(): cleaner.fns[idx].unlink()\n",
        "    ```\n",
        "    \n",
        "    \n",
        "- Once we've cleaned up our data, we can retrain our model. \n",
        "\n"
      ]
    },
    {
      "cell_type": "code",
      "metadata": {
        "id": "9lFJe0z6iJeh"
      },
      "source": [
        "# Write your code here"
      ],
      "execution_count": null,
      "outputs": []
    },
    {
      "cell_type": "markdown",
      "metadata": {
        "id": "ssyYdCdbvDZU"
      },
      "source": [
        "## Turning Your Model into an Online Application"
      ]
    },
    {
      "cell_type": "markdown",
      "metadata": {
        "id": "6cEh8iR2vDZY"
      },
      "source": [
        "Now, take your app into production. You can follow the steps from the lecure:\n",
        "\n",
        "- Export your model via `learn.export`\n",
        "- Upload your model to [Github Releases](https://docs.github.com/en/free-pro-team@latest/github/administering-a-repository/about-releases) to make it publicly available at your repository.\n",
        "- Create and upload a new notebook that only contains the necassary code and IPython widgets for your App. \n",
        "    - Remeber to download the exported model from *Github Releases*\n",
        "    - Include a brief description of your app and the functionalities\n",
        "- Publish your web app on [Binder](https://mybinder.org/) using Voilà\n",
        "\n",
        "You can use the [example](https://github.com/pds2021/course/blob/main/nbs/07_Bear_App.ipynb) from the lecture as an orientation.\n",
        "\n",
        "If you're familiar with the world of web application development, you're free to use these skills and all your tools and ressources!"
      ]
    },
    {
      "cell_type": "code",
      "metadata": {
        "id": "sl91uVMvvDZY"
      },
      "source": [
        "# Write your code here"
      ],
      "execution_count": null,
      "outputs": []
    },
    {
      "cell_type": "markdown",
      "metadata": {
        "id": "Y5OogXK8iJem"
      },
      "source": [
        "## Finally, Provide a Link to Your App"
      ]
    },
    {
      "cell_type": "code",
      "metadata": {
        "id": "jzbH3LcMiJem"
      },
      "source": [
        "# Provide the link to your web app"
      ],
      "execution_count": null,
      "outputs": []
    }
  ]
}