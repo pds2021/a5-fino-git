{
  "nbformat": 4,
  "nbformat_minor": 0,
  "metadata": {
    "accelerator": "GPU",
    "colab": {
      "name": "Assignment_5.ipynb",
      "provenance": [],
      "collapsed_sections": [],
      "toc_visible": true,
      "include_colab_link": true
    },
    "kernelspec": {
      "display_name": "fastai",
      "language": "python",
      "name": "fastai"
    },
    "language_info": {
      "codemirror_mode": {
        "name": "ipython",
        "version": 3
      },
      "file_extension": ".py",
      "mimetype": "text/x-python",
      "name": "python",
      "nbconvert_exporter": "python",
      "pygments_lexer": "ipython3",
      "version": "3.8.6"
    },
    "toc": {
      "base_numbering": 1,
      "nav_menu": {},
      "number_sections": true,
      "sideBar": true,
      "skip_h1_title": true,
      "title_cell": "Table of Contents",
      "title_sidebar": "Contents",
      "toc_cell": false,
      "toc_position": {},
      "toc_section_display": true,
      "toc_window_display": false
    }
  },
  "cells": [
    {
      "cell_type": "markdown",
      "metadata": {
        "id": "view-in-github",
        "colab_type": "text"
      },
      "source": [
        "<a href=\"https://colab.research.google.com/github/pds2021/a5-fino-git/blob/assignment_5/Assignment_5.ipynb\" target=\"_parent\"><img src=\"https://colab.research.google.com/assets/colab-badge.svg\" alt=\"Open In Colab\"/></a>"
      ]
    },
    {
      "cell_type": "markdown",
      "metadata": {
        "id": "tGc2_6yfntEV"
      },
      "source": [
        "*Practical Data Science 20/21*\n",
        "# Programming Assignment 5 - Create your own App"
      ]
    },
    {
      "cell_type": "markdown",
      "metadata": {
        "id": "IoLPBsbcntEY"
      },
      "source": [
        "In this programming assignment you'll build a model that serves as a foundation for your own app. To this end, you will create your own dataset, build a deep learning model on this data, and deploy it!"
      ]
    },
    {
      "cell_type": "code",
      "metadata": {
        "colab": {
          "base_uri": "https://localhost:8080/",
          "height": 330
        },
        "id": "1LFwWTzNF40e",
        "outputId": "6c00ee9a-cea9-4477-ea62-650c73407165"
      },
      "source": [
        "#!pip install -Uqq fastai  # upgrade fastai on colab\n",
        "from fastai.vision.all import *\n",
        "from fastai.vision.widgets import *"
      ],
      "execution_count": 4,
      "outputs": [
        {
          "output_type": "error",
          "ename": "ModuleNotFoundError",
          "evalue": "ignored",
          "traceback": [
            "\u001b[0;31m---------------------------------------------------------------------------\u001b[0m",
            "\u001b[0;31mModuleNotFoundError\u001b[0m                       Traceback (most recent call last)",
            "\u001b[0;32m<ipython-input-4-0cbdcda2e935>\u001b[0m in \u001b[0;36m<module>\u001b[0;34m()\u001b[0m\n\u001b[1;32m      1\u001b[0m \u001b[0;31m#!pip install -Uqq fastai  # upgrade fastai on colab\u001b[0m\u001b[0;34m\u001b[0m\u001b[0;34m\u001b[0m\u001b[0;34m\u001b[0m\u001b[0m\n\u001b[0;32m----> 2\u001b[0;31m \u001b[0;32mfrom\u001b[0m \u001b[0mfastai\u001b[0m\u001b[0;34m.\u001b[0m\u001b[0mvision\u001b[0m\u001b[0;34m.\u001b[0m\u001b[0mall\u001b[0m \u001b[0;32mimport\u001b[0m \u001b[0;34m*\u001b[0m\u001b[0;34m\u001b[0m\u001b[0;34m\u001b[0m\u001b[0m\n\u001b[0m\u001b[1;32m      3\u001b[0m \u001b[0;32mfrom\u001b[0m \u001b[0mfastai\u001b[0m\u001b[0;34m.\u001b[0m\u001b[0mvision\u001b[0m\u001b[0;34m.\u001b[0m\u001b[0mwidgets\u001b[0m \u001b[0;32mimport\u001b[0m \u001b[0;34m*\u001b[0m\u001b[0;34m\u001b[0m\u001b[0;34m\u001b[0m\u001b[0m\n",
            "\u001b[0;31mModuleNotFoundError\u001b[0m: No module named 'fastai.vision.all'",
            "",
            "\u001b[0;31m---------------------------------------------------------------------------\u001b[0;32m\nNOTE: If your import is failing due to a missing package, you can\nmanually install dependencies using either !pip or !apt.\n\nTo view examples of installing some common dependencies, click the\n\"Open Examples\" button below.\n\u001b[0;31m---------------------------------------------------------------------------\u001b[0m\n"
          ]
        }
      ]
    },
    {
      "cell_type": "markdown",
      "metadata": {
        "id": "W66apl0K_0-p"
      },
      "source": [
        "__Google Drive integration__\n",
        "\n",
        "If you want to store and access your downloaded data for this assignment you can use the following code:"
      ]
    },
    {
      "cell_type": "code",
      "metadata": {
        "colab": {
          "base_uri": "https://localhost:8080/",
          "height": 522
        },
        "id": "yGFt-2HA_wEF",
        "outputId": "c5402b01-6243-46a4-8cb7-fbde95a188e7"
      },
      "source": [
        "from google.colab import drive\n",
        "drive.mount('/content/drive')\n",
        "!mkdir /content/drive/My\\ Drive/pds_a5\n",
        "%cd /content/drive/My\\ Drive/pds_a5"
      ],
      "execution_count": 3,
      "outputs": [
        {
          "output_type": "error",
          "ename": "KeyboardInterrupt",
          "evalue": "ignored",
          "traceback": [
            "\u001b[0;31m---------------------------------------------------------------------------\u001b[0m",
            "\u001b[0;31mKeyboardInterrupt\u001b[0m                         Traceback (most recent call last)",
            "\u001b[0;32m/usr/local/lib/python3.6/dist-packages/ipykernel/kernelbase.py\u001b[0m in \u001b[0;36m_input_request\u001b[0;34m(self, prompt, ident, parent, password)\u001b[0m\n\u001b[1;32m    728\u001b[0m             \u001b[0;32mtry\u001b[0m\u001b[0;34m:\u001b[0m\u001b[0;34m\u001b[0m\u001b[0;34m\u001b[0m\u001b[0m\n\u001b[0;32m--> 729\u001b[0;31m                 \u001b[0mident\u001b[0m\u001b[0;34m,\u001b[0m \u001b[0mreply\u001b[0m \u001b[0;34m=\u001b[0m \u001b[0mself\u001b[0m\u001b[0;34m.\u001b[0m\u001b[0msession\u001b[0m\u001b[0;34m.\u001b[0m\u001b[0mrecv\u001b[0m\u001b[0;34m(\u001b[0m\u001b[0mself\u001b[0m\u001b[0;34m.\u001b[0m\u001b[0mstdin_socket\u001b[0m\u001b[0;34m,\u001b[0m \u001b[0;36m0\u001b[0m\u001b[0;34m)\u001b[0m\u001b[0;34m\u001b[0m\u001b[0;34m\u001b[0m\u001b[0m\n\u001b[0m\u001b[1;32m    730\u001b[0m             \u001b[0;32mexcept\u001b[0m \u001b[0mException\u001b[0m\u001b[0;34m:\u001b[0m\u001b[0;34m\u001b[0m\u001b[0;34m\u001b[0m\u001b[0m\n",
            "\u001b[0;32m/usr/local/lib/python3.6/dist-packages/jupyter_client/session.py\u001b[0m in \u001b[0;36mrecv\u001b[0;34m(self, socket, mode, content, copy)\u001b[0m\n\u001b[1;32m    802\u001b[0m         \u001b[0;32mtry\u001b[0m\u001b[0;34m:\u001b[0m\u001b[0;34m\u001b[0m\u001b[0;34m\u001b[0m\u001b[0m\n\u001b[0;32m--> 803\u001b[0;31m             \u001b[0mmsg_list\u001b[0m \u001b[0;34m=\u001b[0m \u001b[0msocket\u001b[0m\u001b[0;34m.\u001b[0m\u001b[0mrecv_multipart\u001b[0m\u001b[0;34m(\u001b[0m\u001b[0mmode\u001b[0m\u001b[0;34m,\u001b[0m \u001b[0mcopy\u001b[0m\u001b[0;34m=\u001b[0m\u001b[0mcopy\u001b[0m\u001b[0;34m)\u001b[0m\u001b[0;34m\u001b[0m\u001b[0;34m\u001b[0m\u001b[0m\n\u001b[0m\u001b[1;32m    804\u001b[0m         \u001b[0;32mexcept\u001b[0m \u001b[0mzmq\u001b[0m\u001b[0;34m.\u001b[0m\u001b[0mZMQError\u001b[0m \u001b[0;32mas\u001b[0m \u001b[0me\u001b[0m\u001b[0;34m:\u001b[0m\u001b[0;34m\u001b[0m\u001b[0;34m\u001b[0m\u001b[0m\n",
            "\u001b[0;32m/usr/local/lib/python3.6/dist-packages/zmq/sugar/socket.py\u001b[0m in \u001b[0;36mrecv_multipart\u001b[0;34m(self, flags, copy, track)\u001b[0m\n\u001b[1;32m    565\u001b[0m         \"\"\"\n\u001b[0;32m--> 566\u001b[0;31m         \u001b[0mparts\u001b[0m \u001b[0;34m=\u001b[0m \u001b[0;34m[\u001b[0m\u001b[0mself\u001b[0m\u001b[0;34m.\u001b[0m\u001b[0mrecv\u001b[0m\u001b[0;34m(\u001b[0m\u001b[0mflags\u001b[0m\u001b[0;34m,\u001b[0m \u001b[0mcopy\u001b[0m\u001b[0;34m=\u001b[0m\u001b[0mcopy\u001b[0m\u001b[0;34m,\u001b[0m \u001b[0mtrack\u001b[0m\u001b[0;34m=\u001b[0m\u001b[0mtrack\u001b[0m\u001b[0;34m)\u001b[0m\u001b[0;34m]\u001b[0m\u001b[0;34m\u001b[0m\u001b[0;34m\u001b[0m\u001b[0m\n\u001b[0m\u001b[1;32m    567\u001b[0m         \u001b[0;31m# have first part already, only loop while more to receive\u001b[0m\u001b[0;34m\u001b[0m\u001b[0;34m\u001b[0m\u001b[0;34m\u001b[0m\u001b[0m\n",
            "\u001b[0;32mzmq/backend/cython/socket.pyx\u001b[0m in \u001b[0;36mzmq.backend.cython.socket.Socket.recv\u001b[0;34m()\u001b[0m\n",
            "\u001b[0;32mzmq/backend/cython/socket.pyx\u001b[0m in \u001b[0;36mzmq.backend.cython.socket.Socket.recv\u001b[0;34m()\u001b[0m\n",
            "\u001b[0;32mzmq/backend/cython/socket.pyx\u001b[0m in \u001b[0;36mzmq.backend.cython.socket._recv_copy\u001b[0;34m()\u001b[0m\n",
            "\u001b[0;32m/usr/local/lib/python3.6/dist-packages/zmq/backend/cython/checkrc.pxd\u001b[0m in \u001b[0;36mzmq.backend.cython.checkrc._check_rc\u001b[0;34m()\u001b[0m\n",
            "\u001b[0;31mKeyboardInterrupt\u001b[0m: ",
            "\nDuring handling of the above exception, another exception occurred:\n",
            "\u001b[0;31mKeyboardInterrupt\u001b[0m                         Traceback (most recent call last)",
            "\u001b[0;32m<ipython-input-3-c2a774c8958e>\u001b[0m in \u001b[0;36m<module>\u001b[0;34m()\u001b[0m\n\u001b[1;32m      1\u001b[0m \u001b[0;32mfrom\u001b[0m \u001b[0mgoogle\u001b[0m\u001b[0;34m.\u001b[0m\u001b[0mcolab\u001b[0m \u001b[0;32mimport\u001b[0m \u001b[0mdrive\u001b[0m\u001b[0;34m\u001b[0m\u001b[0;34m\u001b[0m\u001b[0m\n\u001b[0;32m----> 2\u001b[0;31m \u001b[0mdrive\u001b[0m\u001b[0;34m.\u001b[0m\u001b[0mmount\u001b[0m\u001b[0;34m(\u001b[0m\u001b[0;34m'/content/drive'\u001b[0m\u001b[0;34m)\u001b[0m\u001b[0;34m\u001b[0m\u001b[0;34m\u001b[0m\u001b[0m\n\u001b[0m\u001b[1;32m      3\u001b[0m \u001b[0mget_ipython\u001b[0m\u001b[0;34m(\u001b[0m\u001b[0;34m)\u001b[0m\u001b[0;34m.\u001b[0m\u001b[0msystem\u001b[0m\u001b[0;34m(\u001b[0m\u001b[0;34m'mkdir /content/drive/My\\\\ Drive/pds_a5'\u001b[0m\u001b[0;34m)\u001b[0m\u001b[0;34m\u001b[0m\u001b[0;34m\u001b[0m\u001b[0m\n\u001b[1;32m      4\u001b[0m \u001b[0mget_ipython\u001b[0m\u001b[0;34m(\u001b[0m\u001b[0;34m)\u001b[0m\u001b[0;34m.\u001b[0m\u001b[0mmagic\u001b[0m\u001b[0;34m(\u001b[0m\u001b[0;34m'cd /content/drive/My\\\\ Drive/pds_a5'\u001b[0m\u001b[0;34m)\u001b[0m\u001b[0;34m\u001b[0m\u001b[0;34m\u001b[0m\u001b[0m\n",
            "\u001b[0;32m/usr/local/lib/python3.6/dist-packages/google/colab/drive.py\u001b[0m in \u001b[0;36mmount\u001b[0;34m(mountpoint, force_remount, timeout_ms, use_metadata_server)\u001b[0m\n\u001b[1;32m    260\u001b[0m       \u001b[0;32mwith\u001b[0m \u001b[0m_output\u001b[0m\u001b[0;34m.\u001b[0m\u001b[0muse_tags\u001b[0m\u001b[0;34m(\u001b[0m\u001b[0;34m'dfs-auth-dance'\u001b[0m\u001b[0;34m)\u001b[0m\u001b[0;34m:\u001b[0m\u001b[0;34m\u001b[0m\u001b[0;34m\u001b[0m\u001b[0m\n\u001b[1;32m    261\u001b[0m         \u001b[0;32mwith\u001b[0m \u001b[0mopen\u001b[0m\u001b[0;34m(\u001b[0m\u001b[0mfifo\u001b[0m\u001b[0;34m,\u001b[0m \u001b[0;34m'w'\u001b[0m\u001b[0;34m)\u001b[0m \u001b[0;32mas\u001b[0m \u001b[0mfifo_file\u001b[0m\u001b[0;34m:\u001b[0m\u001b[0;34m\u001b[0m\u001b[0;34m\u001b[0m\u001b[0m\n\u001b[0;32m--> 262\u001b[0;31m           \u001b[0mfifo_file\u001b[0m\u001b[0;34m.\u001b[0m\u001b[0mwrite\u001b[0m\u001b[0;34m(\u001b[0m\u001b[0mget_code\u001b[0m\u001b[0;34m(\u001b[0m\u001b[0mauth_prompt\u001b[0m\u001b[0;34m)\u001b[0m \u001b[0;34m+\u001b[0m \u001b[0;34m'\\n'\u001b[0m\u001b[0;34m)\u001b[0m\u001b[0;34m\u001b[0m\u001b[0;34m\u001b[0m\u001b[0m\n\u001b[0m\u001b[1;32m    263\u001b[0m       \u001b[0mwrote_to_fifo\u001b[0m \u001b[0;34m=\u001b[0m \u001b[0;32mTrue\u001b[0m\u001b[0;34m\u001b[0m\u001b[0;34m\u001b[0m\u001b[0m\n\u001b[1;32m    264\u001b[0m     \u001b[0;32melif\u001b[0m \u001b[0mcase\u001b[0m \u001b[0;34m==\u001b[0m \u001b[0;36m5\u001b[0m\u001b[0;34m:\u001b[0m\u001b[0;34m\u001b[0m\u001b[0;34m\u001b[0m\u001b[0m\n",
            "\u001b[0;32m/usr/local/lib/python3.6/dist-packages/ipykernel/kernelbase.py\u001b[0m in \u001b[0;36mraw_input\u001b[0;34m(self, prompt)\u001b[0m\n\u001b[1;32m    702\u001b[0m             \u001b[0mself\u001b[0m\u001b[0;34m.\u001b[0m\u001b[0m_parent_ident\u001b[0m\u001b[0;34m,\u001b[0m\u001b[0;34m\u001b[0m\u001b[0;34m\u001b[0m\u001b[0m\n\u001b[1;32m    703\u001b[0m             \u001b[0mself\u001b[0m\u001b[0;34m.\u001b[0m\u001b[0m_parent_header\u001b[0m\u001b[0;34m,\u001b[0m\u001b[0;34m\u001b[0m\u001b[0;34m\u001b[0m\u001b[0m\n\u001b[0;32m--> 704\u001b[0;31m             \u001b[0mpassword\u001b[0m\u001b[0;34m=\u001b[0m\u001b[0;32mFalse\u001b[0m\u001b[0;34m,\u001b[0m\u001b[0;34m\u001b[0m\u001b[0;34m\u001b[0m\u001b[0m\n\u001b[0m\u001b[1;32m    705\u001b[0m         )\n\u001b[1;32m    706\u001b[0m \u001b[0;34m\u001b[0m\u001b[0m\n",
            "\u001b[0;32m/usr/local/lib/python3.6/dist-packages/ipykernel/kernelbase.py\u001b[0m in \u001b[0;36m_input_request\u001b[0;34m(self, prompt, ident, parent, password)\u001b[0m\n\u001b[1;32m    732\u001b[0m             \u001b[0;32mexcept\u001b[0m \u001b[0mKeyboardInterrupt\u001b[0m\u001b[0;34m:\u001b[0m\u001b[0;34m\u001b[0m\u001b[0;34m\u001b[0m\u001b[0m\n\u001b[1;32m    733\u001b[0m                 \u001b[0;31m# re-raise KeyboardInterrupt, to truncate traceback\u001b[0m\u001b[0;34m\u001b[0m\u001b[0;34m\u001b[0m\u001b[0;34m\u001b[0m\u001b[0m\n\u001b[0;32m--> 734\u001b[0;31m                 \u001b[0;32mraise\u001b[0m \u001b[0mKeyboardInterrupt\u001b[0m\u001b[0;34m\u001b[0m\u001b[0;34m\u001b[0m\u001b[0m\n\u001b[0m\u001b[1;32m    735\u001b[0m             \u001b[0;32melse\u001b[0m\u001b[0;34m:\u001b[0m\u001b[0;34m\u001b[0m\u001b[0;34m\u001b[0m\u001b[0m\n\u001b[1;32m    736\u001b[0m                 \u001b[0;32mbreak\u001b[0m\u001b[0;34m\u001b[0m\u001b[0;34m\u001b[0m\u001b[0m\n",
            "\u001b[0;31mKeyboardInterrupt\u001b[0m: "
          ]
        }
      ]
    },
    {
      "cell_type": "markdown",
      "metadata": {
        "id": "0jMXp_ssBLeN"
      },
      "source": [
        "## Develop an Application Idea"
      ]
    },
    {
      "cell_type": "markdown",
      "metadata": {
        "id": "KubOl5bIGf1J"
      },
      "source": [
        "___Free your mind - this part is totally up to you.___\n",
        "\n",
        "Think of an app that you'd like to build.\n",
        "*   What useful app have you been missing?\n",
        "*   Do you have any hobbies an app could be helpful for?\n",
        "*   Is this a suitable classification or regression task? \n",
        "*   How could you get the data?\n"
      ]
    },
    {
      "cell_type": "code",
      "metadata": {
        "id": "sy7CThSkC5mP"
      },
      "source": [
        "# Write down your app idea here\r\n",
        "\r\n",
        "#deer classifier: I am often wondering which type of deer is on a picture\r\n",
        "\r\n",
        "#the data can be downloaded from a Browser - Google similar to the bear example"
      ],
      "execution_count": null,
      "outputs": []
    },
    {
      "cell_type": "markdown",
      "metadata": {
        "id": "DNhyJFz47hf3"
      },
      "source": [
        "You can get an inspiration from these Apps:\n",
        "\n",
        "<table>\n",
        "<tr>\n",
        "<td> <img src=\"https://github.com/hiromis/notes/raw/master/lesson3/5.png\"> <br><a href=\"https://forums.fast.ai/t/share-your-work-here/27676/400\">Guitar Classifier</a> by Christian Werner</td><td> <img src=\"https://github.com/hiromis/notes/raw/master/lesson3/6.png\"><br><a href=\"https://forums.fast.ai/t/share-your-work-here/27676/340\">Healthy or Not!</a> by Nikhil Utane </td><td> <img src=\"https://github.com/hiromis/notes/raw/master/lesson3/7.png\"> <br><a href=\"https://forums.fast.ai/t/share-your-work-here/27676/333\">Hummingbird Classifier</a> by Nissan Dookeran</td>\n",
        "</tr><tr>\n",
        "<td> <img src=\"https://github.com/hiromis/notes/raw/master/lesson3/8.png\"> <br><a href=\"https://forums.fast.ai/t/share-your-work-here/27676/409\">Edible Mushroom?</a> by Ramon</td><td> <img src=\"https://github.com/hiromis/notes/raw/master/lesson3/9.png\"><br> <a href=\"https://forums.fast.ai/t/share-your-work-here/27676/387\">Cousin Recognizer</a> by Charlie Harrington</td><td> <img src=\"https://github.com/hiromis/notes/raw/master/lesson3/10.png\"><br> <a href=\"https://forums.fast.ai/t/share-your-work-here/27676/386\">Emotion Classifier</a> by Ethan Sutin and Team 26</td>\n",
        "</tr><tr>\n",
        "<td> <img src=\"https://github.com/hiromis/notes/raw/master/lesson3/11.png\"> <br><a href=\"https://forums.fast.ai/t/share-your-work-here/27676/350\">American Sign Language</a> by Keyur Paralkar</td><td> <img src=\"https://github.com/hiromis/notes/raw/master/lesson3/12.png\"> <br><a href=\"https://forums.fast.ai/t/share-your-work-here/27676/355\">Your City from Space</a> by Henri Palacci</td><td> <img src=\"https://github.com/hiromis/notes/raw/master/lesson3/13.png\"> <br><a href=\"https://forums.fast.ai/t/share-your-work-here/27676/367\">Univariate TS as images using Gramian Angular Field</a> by Ignacio Oguiza</td>\n",
        "</tr><tr>\n",
        "<td> <img src=\"https://github.com/hiromis/notes/raw/master/lesson3/14.png\"> <br><a href=\"https://forums.fast.ai/t/share-your-work-here/27676/348\">Face Expression Recognition</a> by Pierre Guillou</td><td> <img src=\"https://github.com/hiromis/notes/raw/master/lesson3/15.png\"><br><a href=\"https://forums.fast.ai/t/share-your-work-here/27676/352\">Tumor-normal sequencing</a> by Alena Harley</td><td>  </td>\n",
        "</tr><table>"
      ]
    },
    {
      "cell_type": "markdown",
      "metadata": {
        "id": "JcWF9CzcntEb"
      },
      "source": [
        "## Creating your own Dataset\n",
        "\n",
        "Now you need to construct a dataset that allows you to train a model for your app. You learned about how to create a dataset in Lecture 7.\n",
        "\n",
        "Here, you can follow the steps from the lecture or look into the following ressources:\n",
        "\n",
        "*   A [tool](https://github.com/toffebjorkskog/ml-tools/blob/master/gi2ds.md) for excluding irrelevant images from Google Image Search results beforehand by @melonkernel\n",
        "*   See this [post](https://www.christianwerner.net/tech/Build-your-image-dataset-faster/) about an alternative image downloader/cleaner by @cwerner\n",
        "*   Of course, you can use your own data/images :) "
      ]
    },
    {
      "cell_type": "markdown",
      "metadata": {
        "id": "_1Ex4FjsQvdw"
      },
      "source": [
        "### 1. Dowload the data \n",
        "- You may use the helper functions from the lecture to get the image URLs\n",
        "- Create a new folder at your defined `path`\n",
        "- Use `download_image` to download the images into the corresponding (sub-)directories"
      ]
    },
    {
      "cell_type": "code",
      "metadata": {
        "id": "t8Zj53oTiJed"
      },
      "source": [
        "# Write your code here"
      ],
      "execution_count": null,
      "outputs": []
    },
    {
      "cell_type": "markdown",
      "metadata": {
        "id": "G2DWtn6dUTuC"
      },
      "source": [
        "### 2. Verify Images\n",
        "- First, create a list of all your images\n",
        "- Use `verify_images` and `unlink` to remove broken images"
      ]
    },
    {
      "cell_type": "code",
      "metadata": {
        "id": "paQU1C7hRwdD"
      },
      "source": [
        "# Write your code here"
      ],
      "execution_count": null,
      "outputs": []
    },
    {
      "cell_type": "markdown",
      "metadata": {
        "id": "ofYTnNAR-9MY"
      },
      "source": [
        "### 3. Create the DataBlock\n",
        "For this, you need to think of:\n",
        "- What kinds of data we are working with\n",
        "- How to get the list of items\n",
        "- How to label these items\n",
        "- How to create the validation set\n",
        "\n",
        "Use `RandomResizedCrop` for `item_tfms`with an image size of 224 px, and the appropriate `aug_transforms` as `batch_tfms`."
      ]
    },
    {
      "cell_type": "code",
      "metadata": {
        "id": "K0OZBgHsVlak"
      },
      "source": [
        "# Write your code here"
      ],
      "execution_count": null,
      "outputs": []
    },
    {
      "cell_type": "markdown",
      "metadata": {
        "id": "B6VzO6cJiJee"
      },
      "source": [
        "### 4. Create the DataLoaders"
      ]
    },
    {
      "cell_type": "code",
      "metadata": {
        "id": "Y4g04l9GiJef"
      },
      "source": [
        "# Write your code here"
      ],
      "execution_count": null,
      "outputs": []
    },
    {
      "cell_type": "markdown",
      "metadata": {
        "id": "XSqwnxqHVsI1"
      },
      "source": [
        "### 5. Take a look at some of your pictures. \n",
        "Does everything look as expected?"
      ]
    },
    {
      "cell_type": "code",
      "metadata": {
        "id": "KiDCW4GkWGEh"
      },
      "source": [
        "# Write your code here"
      ],
      "execution_count": null,
      "outputs": []
    },
    {
      "cell_type": "markdown",
      "metadata": {
        "id": "NHPY-ROICpQS"
      },
      "source": [
        "## Modeling"
      ]
    },
    {
      "cell_type": "markdown",
      "metadata": {
        "id": "2QbIfj5hCz27"
      },
      "source": [
        "### 6. Create a learner\n",
        "\n",
        "Create an appropriate learner for your data\n",
        "- Choose an appropriate model [architecture](https://fastai1.fast.ai/vision.models.html)\n",
        "- Choose appropriate [metrics](https://docs.fast.ai/metrics.html) for your task"
      ]
    },
    {
      "cell_type": "code",
      "metadata": {
        "id": "MPbUxgzKqHf5"
      },
      "source": [
        "# Write your code here"
      ],
      "execution_count": null,
      "outputs": []
    },
    {
      "cell_type": "markdown",
      "metadata": {
        "id": "mZNWMhpdDGIx"
      },
      "source": [
        "### 7. Fit the model\n",
        "\n",
        "Use your knowdledge on model training to fit your model!"
      ]
    },
    {
      "cell_type": "code",
      "metadata": {
        "id": "t1Vg9n-6DImj"
      },
      "source": [
        "# Write your code here"
      ],
      "execution_count": null,
      "outputs": []
    },
    {
      "cell_type": "markdown",
      "metadata": {
        "id": "xStuybwxntEq"
      },
      "source": [
        "### 8. Evaluate the model\n",
        "\n",
        "You' ve already seen many ways to evaluate a model. Evaluate your model in a qualitative and quantitative manner."
      ]
    },
    {
      "cell_type": "code",
      "metadata": {
        "id": "bBbtzt8LqS_s"
      },
      "source": [
        "# Write your code here"
      ],
      "execution_count": null,
      "outputs": []
    },
    {
      "cell_type": "markdown",
      "metadata": {
        "id": "mSxyzt99iJeh"
      },
      "source": [
        "### 9. Clean your data\n",
        "\n",
        "Based on the evaluation, you may want to clean your data using the `ImageClassifierCleaner`.\n",
        "- Remeber to delete the selected data after using the cleaner:\n",
        "    ```python\n",
        "    for idx in cleaner.delete(): cleaner.fns[idx].unlink()\n",
        "    ```\n",
        "    \n",
        "    \n",
        "- Once we've cleaned up our data, we can retrain our model. \n",
        "\n"
      ]
    },
    {
      "cell_type": "code",
      "metadata": {
        "id": "9lFJe0z6iJeh"
      },
      "source": [
        "# Write your code here"
      ],
      "execution_count": null,
      "outputs": []
    },
    {
      "cell_type": "markdown",
      "metadata": {
        "id": "ssyYdCdbvDZU"
      },
      "source": [
        "## Turning Your Model into an Online Application"
      ]
    },
    {
      "cell_type": "markdown",
      "metadata": {
        "id": "6cEh8iR2vDZY"
      },
      "source": [
        "Now, take your app into production. You can follow the steps from the lecure:\n",
        "\n",
        "- Export your model via `learn.export`\n",
        "- Upload your model to [Github Releases](https://docs.github.com/en/free-pro-team@latest/github/administering-a-repository/about-releases) to make it publicly available at your repository.\n",
        "- Create and upload a new notebook that only contains the necassary code and IPython widgets for your App. \n",
        "    - Remeber to download the exported model from *Github Releases*\n",
        "    - Include a brief description of your app and the functionalities\n",
        "- Publish your web app on [Binder](https://mybinder.org/) using Voilà\n",
        "\n",
        "You can use the [example](https://github.com/pds2021/course/blob/main/nbs/07_Bear_App.ipynb) from the lecture as an orientation.\n",
        "\n",
        "If you're familiar with the world of web application development, you're free to use these skills and all your tools and ressources!"
      ]
    },
    {
      "cell_type": "code",
      "metadata": {
        "id": "sl91uVMvvDZY"
      },
      "source": [
        "# Write your code here"
      ],
      "execution_count": null,
      "outputs": []
    },
    {
      "cell_type": "markdown",
      "metadata": {
        "id": "Y5OogXK8iJem"
      },
      "source": [
        "## Finally, Provide a Link to Your App"
      ]
    },
    {
      "cell_type": "code",
      "metadata": {
        "id": "jzbH3LcMiJem"
      },
      "source": [
        "# Provide the link to your web app"
      ],
      "execution_count": null,
      "outputs": []
    }
  ]
}