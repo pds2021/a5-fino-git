{
  "nbformat": 4,
  "nbformat_minor": 0,
  "metadata": {
    "colab": {
      "name": "Deer_Classifier.ipynb",
      "provenance": [],
      "authorship_tag": "ABX9TyOMs9zt0XQumxgGuJjeY4qr",
      "include_colab_link": true
    },
    "kernelspec": {
      "name": "python3",
      "display_name": "Python 3"
    }
  },
  "cells": [
    {
      "cell_type": "markdown",
      "metadata": {
        "id": "view-in-github",
        "colab_type": "text"
      },
      "source": [
        "<a href=\"https://colab.research.google.com/github/pds2021/a5-fino-git/blob/assignment_5/Deer_Classifier.ipynb\" target=\"_parent\"><img src=\"https://colab.research.google.com/assets/colab-badge.svg\" alt=\"Open In Colab\"/></a>"
      ]
    },
    {
      "cell_type": "markdown",
      "metadata": {
        "id": "FPtdCTumRZhz"
      },
      "source": [
        "## **Scandinanimal - The scandinavian deer classification app**"
      ]
    },
    {
      "cell_type": "markdown",
      "metadata": {
        "id": "t3fSPsHuRkgD"
      },
      "source": [
        "Have you ever been to the scandinavian forests and wondered if you are facing a moose, caribou or an elk? Upload a picture and you will find out. Unfortunately this app can not handle the bavarian \"Wolpertinger\", but it can help you if you are Santa Claus and looking for a new reliable caribou."
      ]
    },
    {
      "cell_type": "code",
      "metadata": {
        "id": "JwI3b58FQ9MU"
      },
      "source": [
        "from fastai.vision.all import *\r\n",
        "from fastai.vision.widgets import *"
      ],
      "execution_count": null,
      "outputs": []
    },
    {
      "cell_type": "code",
      "metadata": {
        "id": "b-LYfgMDXyoY"
      },
      "source": [
        "download_url('https://github.com/pds2021/a5-fino-git/releases/download/1/deer_classifier_seraphin.pkl', 'deer_classifier_seraphin.pkl')\r\n",
        "learn_inf = load_learner('deer_classifier_seraphin.pkl', cpu=True)\r\n",
        "btn_upload = widgets.FileUpload()\r\n",
        "btn_run = widgets.Button(description='Classify')\r\n",
        "out_pl = widgets.Output()\r\n",
        "lbl_pred = widgets.Label()\r\n",
        "\r\n",
        "def on_click_classify(change):\r\n",
        "    img = PILImage.create(btn_upload.data[-1])\r\n",
        "    out_pl.clear_output()\r\n",
        "    with out_pl: display(img.to_thumb(128,128))\r\n",
        "    pred,pred_idx,probs = learn_inf.predict(img)\r\n",
        "    lbl_pred.value = f'Prediction: {pred}; Probability: {probs[pred_idx]:.04f}'\r\n",
        "\r\n",
        "btn_run.on_click(on_click_classify)\r\n",
        "VBox([widgets.Label('Select your scandinavian deer!'), \r\n",
        "      btn_upload, btn_run, out_pl, lbl_pred])\r\n",
        "\r\n"
      ],
      "execution_count": null,
      "outputs": []
    }
  ]
}